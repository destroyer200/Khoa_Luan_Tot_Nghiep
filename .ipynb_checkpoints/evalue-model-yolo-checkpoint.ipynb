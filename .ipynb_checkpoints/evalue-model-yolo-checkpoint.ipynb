{
 "cells": [
  {
   "cell_type": "code",
   "execution_count": null,
   "metadata": {
    "execution": {
     "iopub.execute_input": "2023-05-14T10:51:59.321404Z",
     "iopub.status.busy": "2023-05-14T10:51:59.321091Z",
     "iopub.status.idle": "2023-05-14T10:52:18.496896Z",
     "shell.execute_reply": "2023-05-14T10:52:18.495603Z",
     "shell.execute_reply.started": "2023-05-14T10:51:59.321372Z"
    }
   },
   "outputs": [],
   "source": [
    "# link data train yolo: https://www.kaggle.com/datasets/nguyntunsinh/ddsm-lut-2-label\n",
    "# link checkpoint yolo: https://www.kaggle.com/datasets/nguyntunsinh/check-point-yolo"
   ]
  },
  {
   "cell_type": "code",
   "execution_count": null,
   "metadata": {},
   "outputs": [],
   "source": [
    "!pip install ultralytics"
   ]
  },
  {
   "cell_type": "code",
   "execution_count": null,
   "metadata": {
    "execution": {
     "iopub.execute_input": "2023-05-14T10:52:18.500990Z",
     "iopub.status.busy": "2023-05-14T10:52:18.500591Z",
     "iopub.status.idle": "2023-05-14T10:52:22.569063Z",
     "shell.execute_reply": "2023-05-14T10:52:22.567666Z",
     "shell.execute_reply.started": "2023-05-14T10:52:18.500951Z"
    }
   },
   "outputs": [],
   "source": [
    "from ultralytics import YOLO"
   ]
  },
  {
   "cell_type": "code",
   "execution_count": null,
   "metadata": {
    "execution": {
     "iopub.execute_input": "2023-05-14T10:52:22.572591Z",
     "iopub.status.busy": "2023-05-14T10:52:22.570871Z",
     "iopub.status.idle": "2023-05-14T10:52:23.542188Z",
     "shell.execute_reply": "2023-05-14T10:52:23.540790Z",
     "shell.execute_reply.started": "2023-05-14T10:52:22.572549Z"
    }
   },
   "outputs": [],
   "source": [
    "!mkdir /kaggle/working/data"
   ]
  },
  {
   "cell_type": "code",
   "execution_count": null,
   "metadata": {
    "execution": {
     "iopub.execute_input": "2023-05-14T10:52:23.546305Z",
     "iopub.status.busy": "2023-05-14T10:52:23.545900Z",
     "iopub.status.idle": "2023-05-14T10:52:24.489521Z",
     "shell.execute_reply": "2023-05-14T10:52:24.488223Z",
     "shell.execute_reply.started": "2023-05-14T10:52:23.546260Z"
    }
   },
   "outputs": [],
   "source": [
    "!rm /kaggle/working/data/mydataset.yaml # nếu có file thì xóa"
   ]
  },
  {
   "cell_type": "code",
   "execution_count": null,
   "metadata": {
    "execution": {
     "iopub.execute_input": "2023-05-14T11:23:23.370049Z",
     "iopub.status.busy": "2023-05-14T11:23:23.369238Z",
     "iopub.status.idle": "2023-05-14T11:23:28.480394Z",
     "shell.execute_reply": "2023-05-14T11:23:28.478960Z",
     "shell.execute_reply.started": "2023-05-14T11:23:23.369999Z"
    }
   },
   "outputs": [],
   "source": [
    "# !rm /kaggle/working/data/mydataset.yaml # nếu có file thì xóa\n",
    "!echo 'train: /kaggle/input/data-yolo-ddsm-2-labels/ddsm_2_labels/train' >> /kaggle/working/data/mydataset.yaml\n",
    "!echo 'val: /kaggle/input/data-yolo-ddsm-2-labels/ddsm_2_labels/val' >> /kaggle/working/data/mydataset.yaml\n",
    "!echo 'test: /kaggle/input/ddsm-lut-2-label/ddsm_lut_2_label/test' >> /kaggle/working/data/mydataset.yaml\n",
    "!echo 'nc: 2' >> /kaggle/working/data/mydataset.yaml\n",
    "!echo \"names: ['mask', 'normal']\" >> /kaggle/working/data/mydataset.yaml"
   ]
  },
  {
   "cell_type": "code",
   "execution_count": null,
   "metadata": {
    "execution": {
     "iopub.execute_input": "2023-05-14T10:52:29.241287Z",
     "iopub.status.busy": "2023-05-14T10:52:29.240066Z",
     "iopub.status.idle": "2023-05-14T10:52:30.178724Z",
     "shell.execute_reply": "2023-05-14T10:52:30.177442Z",
     "shell.execute_reply.started": "2023-05-14T10:52:29.241236Z"
    }
   },
   "outputs": [],
   "source": [
    "!rm /kaggle/working/data/hyp.yaml"
   ]
  },
  {
   "cell_type": "code",
   "execution_count": null,
   "metadata": {
    "execution": {
     "iopub.execute_input": "2023-05-14T10:52:30.181511Z",
     "iopub.status.busy": "2023-05-14T10:52:30.181068Z",
     "iopub.status.idle": "2023-05-14T10:52:34.119881Z",
     "shell.execute_reply": "2023-05-14T10:52:34.117926Z",
     "shell.execute_reply.started": "2023-05-14T10:52:30.181465Z"
    }
   },
   "outputs": [],
   "source": [
    "!git clone https://github.com/ultralytics/yolov5"
   ]
  },
  {
   "cell_type": "code",
   "execution_count": null,
   "metadata": {
    "execution": {
     "iopub.execute_input": "2023-05-14T10:52:34.125784Z",
     "iopub.status.busy": "2023-05-14T10:52:34.125444Z",
     "iopub.status.idle": "2023-05-14T10:52:56.263648Z",
     "shell.execute_reply": "2023-05-14T10:52:56.262396Z",
     "shell.execute_reply.started": "2023-05-14T10:52:34.125746Z"
    }
   },
   "outputs": [],
   "source": [
    "%cd /kaggle/working/yolov5\n",
    "!pip install -r requirements.txt "
   ]
  },
  {
   "cell_type": "code",
   "execution_count": null,
   "metadata": {},
   "outputs": [],
   "source": [
    "!python val.py --img 512 --batch 16 --task test --data /kaggle/working/data/mydataset.yaml --weights /kaggle/input/check-point-yolo/best_yolov5l_512_16_100_lut_2_label.pt --conf-thres 0.5 --iou-thres 0.5 > /kaggle/working/output.txt"
   ]
  },
  {
   "cell_type": "code",
   "execution_count": null,
   "metadata": {
    "execution": {
     "iopub.execute_input": "2023-05-09T15:00:58.652194Z",
     "iopub.status.busy": "2023-05-09T15:00:58.651876Z",
     "iopub.status.idle": "2023-05-09T15:00:59.591614Z",
     "shell.execute_reply": "2023-05-09T15:00:59.590249Z",
     "shell.execute_reply.started": "2023-05-09T15:00:58.652166Z"
    }
   },
   "outputs": [],
   "source": [
    "!cd /kaggle/working/yolov5"
   ]
  },
  {
   "cell_type": "code",
   "execution_count": null,
   "metadata": {
    "execution": {
     "iopub.execute_input": "2023-05-09T15:00:59.595157Z",
     "iopub.status.busy": "2023-05-09T15:00:59.594313Z",
     "iopub.status.idle": "2023-05-09T15:01:10.290762Z",
     "shell.execute_reply": "2023-05-09T15:01:10.289837Z",
     "shell.execute_reply.started": "2023-05-09T15:00:59.595112Z"
    }
   },
   "outputs": [],
   "source": [
    "import cv2\n",
    "import torch\n",
    "from PIL import Image\n",
    "\n",
    "model = torch.hub.load('ultralytics/yolov5', 'custom', path='/kaggle/input/check-point-yolo/best_yolov5l_512_16_100_lut_2_label.pt')"
   ]
  },
  {
   "cell_type": "code",
   "execution_count": null,
   "metadata": {
    "execution": {
     "iopub.execute_input": "2023-05-09T16:26:09.675283Z",
     "iopub.status.busy": "2023-05-09T16:26:09.674282Z",
     "iopub.status.idle": "2023-05-09T16:26:09.683882Z",
     "shell.execute_reply": "2023-05-09T16:26:09.681640Z",
     "shell.execute_reply.started": "2023-05-09T16:26:09.675240Z"
    }
   },
   "outputs": [],
   "source": [
    "def crop(link):\n",
    "    image = cv2.imread(link)\n",
    "    results = model([image], size=512)\n",
    "    try:\n",
    "        xy = results.xyxy[0]\n",
    "        x1 = int(xy[0][0].item())\n",
    "        y1 = int(xy[0][1].item())\n",
    "        x2 = int(xy[0][2].item())\n",
    "        y2 = int(xy[0][3].item())\n",
    "        image = image[y1: y2, x1:x2]\n",
    "        return image\n",
    "    except:\n",
    "        print('không có boundingbox')"
   ]
  },
  {
   "cell_type": "code",
   "execution_count": null,
   "metadata": {
    "execution": {
     "iopub.execute_input": "2023-05-09T16:26:11.320945Z",
     "iopub.status.busy": "2023-05-09T16:26:11.320164Z",
     "iopub.status.idle": "2023-05-09T16:26:48.101888Z",
     "shell.execute_reply": "2023-05-09T16:26:48.100168Z",
     "shell.execute_reply.started": "2023-05-09T16:26:11.320906Z"
    }
   },
   "outputs": [],
   "source": [
    "import os\n",
    "for i in os.listdir('/kaggle/input/image-detect-classification/image_detect_classiffication'):\n",
    "    img = crop('/kaggle/input/image-detect-classification/image_detect_classiffication/'+ i)\n",
    "    try:\n",
    "        cv2.imwrite(os.path.join('/kaggle/working', i), img)\n",
    "    except:\n",
    "        print('không có ảnh')"
   ]
  },
  {
   "cell_type": "code",
   "execution_count": null,
   "metadata": {},
   "outputs": [],
   "source": []
  }
 ],
 "metadata": {
  "kernelspec": {
   "display_name": "Python 3 (ipykernel)",
   "language": "python",
   "name": "python3"
  },
  "language_info": {
   "codemirror_mode": {
    "name": "ipython",
    "version": 3
   },
   "file_extension": ".py",
   "mimetype": "text/x-python",
   "name": "python",
   "nbconvert_exporter": "python",
   "pygments_lexer": "ipython3",
   "version": "3.9.12"
  }
 },
 "nbformat": 4,
 "nbformat_minor": 4
}

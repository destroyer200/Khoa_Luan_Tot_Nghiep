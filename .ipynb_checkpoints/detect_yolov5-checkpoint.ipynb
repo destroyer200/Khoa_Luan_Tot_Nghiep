{
 "cells": [
  {
   "cell_type": "code",
   "execution_count": null,
   "metadata": {},
   "outputs": [],
   "source": [
    "# link data train yolo: https://www.kaggle.com/datasets/nguyntunsinh/ddsm-lut-2-label"
   ]
  },
  {
   "cell_type": "code",
   "execution_count": null,
   "metadata": {},
   "outputs": [],
   "source": [
    "!pip install ultralytics"
   ]
  },
  {
   "cell_type": "code",
   "execution_count": null,
   "metadata": {
    "execution": {
     "iopub.execute_input": "2023-05-01T04:19:33.785769Z",
     "iopub.status.busy": "2023-05-01T04:19:33.785046Z",
     "iopub.status.idle": "2023-05-01T04:19:37.613830Z",
     "shell.execute_reply": "2023-05-01T04:19:37.612621Z",
     "shell.execute_reply.started": "2023-05-01T04:19:33.785729Z"
    }
   },
   "outputs": [],
   "source": [
    "from ultralytics import YOLO"
   ]
  },
  {
   "cell_type": "code",
   "execution_count": null,
   "metadata": {
    "execution": {
     "iopub.execute_input": "2023-05-01T04:19:37.624841Z",
     "iopub.status.busy": "2023-05-01T04:19:37.624476Z",
     "iopub.status.idle": "2023-05-01T04:19:38.562232Z",
     "shell.execute_reply": "2023-05-01T04:19:38.560840Z",
     "shell.execute_reply.started": "2023-05-01T04:19:37.624802Z"
    }
   },
   "outputs": [],
   "source": [
    "!mkdir /kaggle/working/data"
   ]
  },
  {
   "cell_type": "code",
   "execution_count": null,
   "metadata": {
    "execution": {
     "iopub.execute_input": "2023-05-01T04:19:38.566323Z",
     "iopub.status.busy": "2023-05-01T04:19:38.565428Z",
     "iopub.status.idle": "2023-05-01T04:19:39.511180Z",
     "shell.execute_reply": "2023-05-01T04:19:39.509943Z",
     "shell.execute_reply.started": "2023-05-01T04:19:38.566274Z"
    }
   },
   "outputs": [],
   "source": [
    "!rm /kaggle/working/data/mydataset.yaml # nếu có file thì xóa"
   ]
  },
  {
   "cell_type": "code",
   "execution_count": null,
   "metadata": {
    "execution": {
     "iopub.execute_input": "2023-05-01T04:25:47.819144Z",
     "iopub.status.busy": "2023-05-01T04:25:47.818467Z",
     "iopub.status.idle": "2023-05-01T04:25:51.568078Z",
     "shell.execute_reply": "2023-05-01T04:25:51.566718Z",
     "shell.execute_reply.started": "2023-05-01T04:25:47.819094Z"
    }
   },
   "outputs": [],
   "source": [
    "# !rm /kaggle/working/data/mydataset.yaml # nếu có file thì xóa\n",
    "!echo 'train: /kaggle/input/ddsm-lut-2-label/ddsm_lut_2_label/train' >> /kaggle/working/data/mydataset.yaml\n",
    "!echo 'val: /kaggle/input/ddsm-lut-2-label/ddsm_lut_2_label/val' >> /kaggle/working/data/mydataset.yaml\n",
    "!echo 'test: /kaggle/input/ddsm-lut-2-label/ddsm_lut_2_label/test' >> /kaggle/working/data/mydataset.yaml\n",
    "!echo 'nc: 2' >> /kaggle/working/data/mydataset.yaml\n",
    "!echo \"names: ['mask', 'normal']\" >> /kaggle/working/data/mydataset.yaml"
   ]
  },
  {
   "cell_type": "code",
   "execution_count": null,
   "metadata": {
    "execution": {
     "iopub.execute_input": "2023-05-01T04:19:50.211442Z",
     "iopub.status.busy": "2023-05-01T04:19:50.210648Z",
     "iopub.status.idle": "2023-05-01T04:19:50.221945Z",
     "shell.execute_reply": "2023-05-01T04:19:50.220936Z",
     "shell.execute_reply.started": "2023-05-01T04:19:50.211405Z"
    }
   },
   "outputs": [],
   "source": [
    "import yaml\n",
    "\n",
    "with open(\"/kaggle/working/data/mydataset.yaml\", \"r\") as stream:\n",
    "    try:\n",
    "        print(yaml.safe_load(stream))\n",
    "    except yaml.YAMLError as exc:\n",
    "        print(exc)"
   ]
  },
  {
   "cell_type": "code",
   "execution_count": null,
   "metadata": {
    "execution": {
     "iopub.execute_input": "2023-05-01T04:19:50.254845Z",
     "iopub.status.busy": "2023-05-01T04:19:50.253900Z",
     "iopub.status.idle": "2023-05-01T04:19:53.199311Z",
     "shell.execute_reply": "2023-05-01T04:19:53.197961Z",
     "shell.execute_reply.started": "2023-05-01T04:19:50.254808Z"
    }
   },
   "outputs": [],
   "source": [
    "!git clone https://github.com/ultralytics/yolov5"
   ]
  },
  {
   "cell_type": "code",
   "execution_count": null,
   "metadata": {
    "execution": {
     "iopub.execute_input": "2023-05-01T04:19:53.203554Z",
     "iopub.status.busy": "2023-05-01T04:19:53.203178Z",
     "iopub.status.idle": "2023-05-01T04:20:13.319104Z",
     "shell.execute_reply": "2023-05-01T04:20:13.317710Z",
     "shell.execute_reply.started": "2023-05-01T04:19:53.203505Z"
    }
   },
   "outputs": [],
   "source": [
    "%cd /kaggle/working/yolov5\n",
    "!pip install -r requirements.txt "
   ]
  },
  {
   "cell_type": "code",
   "execution_count": null,
   "metadata": {
    "execution": {
     "iopub.execute_input": "2023-05-01T04:25:53.028929Z",
     "iopub.status.busy": "2023-05-01T04:25:53.027832Z",
     "iopub.status.idle": "2023-05-01T04:27:18.425012Z",
     "shell.execute_reply": "2023-05-01T04:27:18.423678Z",
     "shell.execute_reply.started": "2023-05-01T04:25:53.028854Z"
    }
   },
   "outputs": [],
   "source": [
    "%cd /kaggle/working/yolov5\n",
    "!python train.py --img 512 --batch 16 --epochs 150 --data /kaggle/working/data/mydataset.yaml --weights yolov5l.pt"
   ]
  }
 ],
 "metadata": {
  "kernelspec": {
   "display_name": "Python 3 (ipykernel)",
   "language": "python",
   "name": "python3"
  },
  "language_info": {
   "codemirror_mode": {
    "name": "ipython",
    "version": 3
   },
   "file_extension": ".py",
   "mimetype": "text/x-python",
   "name": "python",
   "nbconvert_exporter": "python",
   "pygments_lexer": "ipython3",
   "version": "3.9.12"
  }
 },
 "nbformat": 4,
 "nbformat_minor": 4
}

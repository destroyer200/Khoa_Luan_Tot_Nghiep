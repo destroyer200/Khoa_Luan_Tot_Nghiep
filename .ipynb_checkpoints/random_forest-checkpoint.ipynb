{
 "cells": [
  {
   "cell_type": "markdown",
   "metadata": {},
   "source": [
    "# load data "
   ]
  },
  {
   "cell_type": "code",
   "execution_count": 1,
   "metadata": {
    "execution": {
     "iopub.execute_input": "2023-05-16T02:30:28.459762Z",
     "iopub.status.busy": "2023-05-16T02:30:28.459290Z",
     "iopub.status.idle": "2023-05-16T02:30:28.659464Z",
     "shell.execute_reply": "2023-05-16T02:30:28.658392Z",
     "shell.execute_reply.started": "2023-05-16T02:30:28.459670Z"
    }
   },
   "outputs": [],
   "source": [
    "import os\n",
    "import cv2\n",
    "import numpy as np\n",
    "import pandas as pd"
   ]
  },
  {
   "cell_type": "code",
   "execution_count": null,
   "metadata": {},
   "outputs": [],
   "source": [
    "link_t = '/kaggle/input/ddsm-classification-cancer/detect_classification/'\n",
    "train_link = os.listdir('/kaggle/input/ddsm-classification-cancer/detect_classification')\n",
    "train_link = pd.DataFrame(train_link, columns=['fileName'])\n",
    "train_link['link'] = train_link['fileName'].apply(lambda x: link_t + x)\n",
    "train_link"
   ]
  },
  {
   "cell_type": "code",
   "execution_count": null,
   "metadata": {},
   "outputs": [],
   "source": [
    "link_v = '/kaggle/input/ddsm-yolo-512/ddsm_512/val/images/'\n",
    "val_link = os.listdir('/kaggle/input/ddsm-yolo-512/ddsm_512/val/images')\n",
    "val_link = pd.DataFrame(val_link, columns=['fileName'])\n",
    "val_link['link'] = val_link['fileName'].apply(lambda x: link_v + x)\n",
    "val_link"
   ]
  },
  {
   "cell_type": "code",
   "execution_count": null,
   "metadata": {},
   "outputs": [],
   "source": [
    "# link_image = pd.concat([train_link, val_link])\n",
    "link_image = train_link\n",
    "link_image['mask'] = link_image['fileName'].apply(lambda x: x.split('_')[-1:][0])\n",
    "link_image"
   ]
  },
  {
   "cell_type": "code",
   "execution_count": 2,
   "metadata": {
    "execution": {
     "iopub.execute_input": "2023-05-16T02:30:28.664488Z",
     "iopub.status.busy": "2023-05-16T02:30:28.664111Z",
     "iopub.status.idle": "2023-05-16T02:30:31.454228Z",
     "shell.execute_reply": "2023-05-16T02:30:31.452128Z",
     "shell.execute_reply.started": "2023-05-16T02:30:28.664452Z"
    }
   },
   "outputs": [
    {
     "data": {
      "text/html": [
       "<div>\n",
       "<style scoped>\n",
       "    .dataframe tbody tr th:only-of-type {\n",
       "        vertical-align: middle;\n",
       "    }\n",
       "\n",
       "    .dataframe tbody tr th {\n",
       "        vertical-align: top;\n",
       "    }\n",
       "\n",
       "    .dataframe thead th {\n",
       "        text-align: right;\n",
       "    }\n",
       "</style>\n",
       "<table border=\"1\" class=\"dataframe\">\n",
       "  <thead>\n",
       "    <tr style=\"text-align: right;\">\n",
       "      <th></th>\n",
       "      <th>fullPath</th>\n",
       "      <th>fileName</th>\n",
       "      <th>View</th>\n",
       "      <th>Side</th>\n",
       "      <th>Status</th>\n",
       "      <th>Tumour_Contour</th>\n",
       "      <th>Tumour_Contour2</th>\n",
       "      <th>Age</th>\n",
       "      <th>Density</th>\n",
       "    </tr>\n",
       "  </thead>\n",
       "  <tbody>\n",
       "    <tr>\n",
       "      <th>0</th>\n",
       "      <td>Benign\\0029\\C_0029_1.LEFT_CC.jpg</td>\n",
       "      <td>C_0029_1.LEFT_CC.jpg</td>\n",
       "      <td>CC</td>\n",
       "      <td>LEFT</td>\n",
       "      <td>Benign</td>\n",
       "      <td>Benign\\0029\\C_0029_1.LEFT_CC_Mask.jpg</td>\n",
       "      <td>-</td>\n",
       "      <td>66.0</td>\n",
       "      <td>3</td>\n",
       "    </tr>\n",
       "    <tr>\n",
       "      <th>1</th>\n",
       "      <td>Benign\\0029\\C_0029_1.LEFT_MLO.jpg</td>\n",
       "      <td>C_0029_1.LEFT_MLO.jpg</td>\n",
       "      <td>MLO</td>\n",
       "      <td>LEFT</td>\n",
       "      <td>Benign</td>\n",
       "      <td>Benign\\0029\\C_0029_1.LEFT_MLO_Mask.jpg</td>\n",
       "      <td>-</td>\n",
       "      <td>66.0</td>\n",
       "      <td>3</td>\n",
       "    </tr>\n",
       "    <tr>\n",
       "      <th>2</th>\n",
       "      <td>Benign\\0029\\C_0029_1.RIGHT_CC.jpg</td>\n",
       "      <td>C_0029_1.RIGHT_CC.jpg</td>\n",
       "      <td>CC</td>\n",
       "      <td>RIGHT</td>\n",
       "      <td>Benign</td>\n",
       "      <td>-</td>\n",
       "      <td>-</td>\n",
       "      <td>66.0</td>\n",
       "      <td>3</td>\n",
       "    </tr>\n",
       "    <tr>\n",
       "      <th>3</th>\n",
       "      <td>Benign\\0029\\C_0029_1.RIGHT_MLO.jpg</td>\n",
       "      <td>C_0029_1.RIGHT_MLO.jpg</td>\n",
       "      <td>MLO</td>\n",
       "      <td>RIGHT</td>\n",
       "      <td>Benign</td>\n",
       "      <td>-</td>\n",
       "      <td>-</td>\n",
       "      <td>66.0</td>\n",
       "      <td>3</td>\n",
       "    </tr>\n",
       "    <tr>\n",
       "      <th>4</th>\n",
       "      <td>Benign\\0033\\C_0033_1.LEFT_CC.jpg</td>\n",
       "      <td>C_0033_1.LEFT_CC.jpg</td>\n",
       "      <td>CC</td>\n",
       "      <td>LEFT</td>\n",
       "      <td>Benign</td>\n",
       "      <td>-</td>\n",
       "      <td>-</td>\n",
       "      <td>60.0</td>\n",
       "      <td>3</td>\n",
       "    </tr>\n",
       "    <tr>\n",
       "      <th>...</th>\n",
       "      <td>...</td>\n",
       "      <td>...</td>\n",
       "      <td>...</td>\n",
       "      <td>...</td>\n",
       "      <td>...</td>\n",
       "      <td>...</td>\n",
       "      <td>...</td>\n",
       "      <td>...</td>\n",
       "      <td>...</td>\n",
       "    </tr>\n",
       "    <tr>\n",
       "      <th>7803</th>\n",
       "      <td>Normal\\4607\\D_4607_1.RIGHT_MLO.jpg</td>\n",
       "      <td>D_4607_1.RIGHT_MLO.jpg</td>\n",
       "      <td>MLO</td>\n",
       "      <td>RIGHT</td>\n",
       "      <td>Normal</td>\n",
       "      <td>-</td>\n",
       "      <td>-</td>\n",
       "      <td>41.0</td>\n",
       "      <td>1</td>\n",
       "    </tr>\n",
       "    <tr>\n",
       "      <th>7804</th>\n",
       "      <td>Normal\\4608\\D_4608_1.LEFT_CC.jpg</td>\n",
       "      <td>D_4608_1.LEFT_CC.jpg</td>\n",
       "      <td>CC</td>\n",
       "      <td>LEFT</td>\n",
       "      <td>Normal</td>\n",
       "      <td>-</td>\n",
       "      <td>-</td>\n",
       "      <td>39.0</td>\n",
       "      <td>2</td>\n",
       "    </tr>\n",
       "    <tr>\n",
       "      <th>7805</th>\n",
       "      <td>Normal\\4608\\D_4608_1.LEFT_MLO.jpg</td>\n",
       "      <td>D_4608_1.LEFT_MLO.jpg</td>\n",
       "      <td>MLO</td>\n",
       "      <td>LEFT</td>\n",
       "      <td>Normal</td>\n",
       "      <td>-</td>\n",
       "      <td>-</td>\n",
       "      <td>39.0</td>\n",
       "      <td>2</td>\n",
       "    </tr>\n",
       "    <tr>\n",
       "      <th>7806</th>\n",
       "      <td>Normal\\4608\\D_4608_1.RIGHT_CC.jpg</td>\n",
       "      <td>D_4608_1.RIGHT_CC.jpg</td>\n",
       "      <td>CC</td>\n",
       "      <td>RIGHT</td>\n",
       "      <td>Normal</td>\n",
       "      <td>-</td>\n",
       "      <td>-</td>\n",
       "      <td>39.0</td>\n",
       "      <td>2</td>\n",
       "    </tr>\n",
       "    <tr>\n",
       "      <th>7807</th>\n",
       "      <td>Normal\\4608\\D_4608_1.RIGHT_MLO.jpg</td>\n",
       "      <td>D_4608_1.RIGHT_MLO.jpg</td>\n",
       "      <td>MLO</td>\n",
       "      <td>RIGHT</td>\n",
       "      <td>Normal</td>\n",
       "      <td>-</td>\n",
       "      <td>-</td>\n",
       "      <td>39.0</td>\n",
       "      <td>2</td>\n",
       "    </tr>\n",
       "  </tbody>\n",
       "</table>\n",
       "<p>7808 rows × 9 columns</p>\n",
       "</div>"
      ],
      "text/plain": [
       "                                fullPath                fileName View   Side  \\\n",
       "0       Benign\\0029\\C_0029_1.LEFT_CC.jpg    C_0029_1.LEFT_CC.jpg   CC   LEFT   \n",
       "1      Benign\\0029\\C_0029_1.LEFT_MLO.jpg   C_0029_1.LEFT_MLO.jpg  MLO   LEFT   \n",
       "2      Benign\\0029\\C_0029_1.RIGHT_CC.jpg   C_0029_1.RIGHT_CC.jpg   CC  RIGHT   \n",
       "3     Benign\\0029\\C_0029_1.RIGHT_MLO.jpg  C_0029_1.RIGHT_MLO.jpg  MLO  RIGHT   \n",
       "4       Benign\\0033\\C_0033_1.LEFT_CC.jpg    C_0033_1.LEFT_CC.jpg   CC   LEFT   \n",
       "...                                  ...                     ...  ...    ...   \n",
       "7803  Normal\\4607\\D_4607_1.RIGHT_MLO.jpg  D_4607_1.RIGHT_MLO.jpg  MLO  RIGHT   \n",
       "7804    Normal\\4608\\D_4608_1.LEFT_CC.jpg    D_4608_1.LEFT_CC.jpg   CC   LEFT   \n",
       "7805   Normal\\4608\\D_4608_1.LEFT_MLO.jpg   D_4608_1.LEFT_MLO.jpg  MLO   LEFT   \n",
       "7806   Normal\\4608\\D_4608_1.RIGHT_CC.jpg   D_4608_1.RIGHT_CC.jpg   CC  RIGHT   \n",
       "7807  Normal\\4608\\D_4608_1.RIGHT_MLO.jpg  D_4608_1.RIGHT_MLO.jpg  MLO  RIGHT   \n",
       "\n",
       "      Status                          Tumour_Contour Tumour_Contour2   Age  \\\n",
       "0     Benign   Benign\\0029\\C_0029_1.LEFT_CC_Mask.jpg               -  66.0   \n",
       "1     Benign  Benign\\0029\\C_0029_1.LEFT_MLO_Mask.jpg               -  66.0   \n",
       "2     Benign                                       -               -  66.0   \n",
       "3     Benign                                       -               -  66.0   \n",
       "4     Benign                                       -               -  60.0   \n",
       "...      ...                                     ...             ...   ...   \n",
       "7803  Normal                                       -               -  41.0   \n",
       "7804  Normal                                       -               -  39.0   \n",
       "7805  Normal                                       -               -  39.0   \n",
       "7806  Normal                                       -               -  39.0   \n",
       "7807  Normal                                       -               -  39.0   \n",
       "\n",
       "      Density  \n",
       "0           3  \n",
       "1           3  \n",
       "2           3  \n",
       "3           3  \n",
       "4           3  \n",
       "...       ...  \n",
       "7803        1  \n",
       "7804        2  \n",
       "7805        2  \n",
       "7806        2  \n",
       "7807        2  \n",
       "\n",
       "[7808 rows x 9 columns]"
      ]
     },
     "execution_count": 2,
     "metadata": {},
     "output_type": "execute_result"
    }
   ],
   "source": [
    "df = pd.read_excel('/kaggle/input/miniddsm2/MINI-DDSM-Complete-JPEG-8/DataWMask.xlsx')\n",
    "df"
   ]
  },
  {
   "cell_type": "code",
   "execution_count": 3,
   "metadata": {
    "execution": {
     "iopub.execute_input": "2023-05-16T02:30:31.458049Z",
     "iopub.status.busy": "2023-05-16T02:30:31.456535Z",
     "iopub.status.idle": "2023-05-16T02:30:32.262438Z",
     "shell.execute_reply": "2023-05-16T02:30:32.261298Z",
     "shell.execute_reply.started": "2023-05-16T02:30:31.457977Z"
    }
   },
   "outputs": [
    {
     "data": {
      "text/html": [
       "<div>\n",
       "<style scoped>\n",
       "    .dataframe tbody tr th:only-of-type {\n",
       "        vertical-align: middle;\n",
       "    }\n",
       "\n",
       "    .dataframe tbody tr th {\n",
       "        vertical-align: top;\n",
       "    }\n",
       "\n",
       "    .dataframe thead th {\n",
       "        text-align: right;\n",
       "    }\n",
       "</style>\n",
       "<table border=\"1\" class=\"dataframe\">\n",
       "  <thead>\n",
       "    <tr style=\"text-align: right;\">\n",
       "      <th></th>\n",
       "      <th>fileName</th>\n",
       "      <th>link</th>\n",
       "      <th>mask</th>\n",
       "    </tr>\n",
       "  </thead>\n",
       "  <tbody>\n",
       "    <tr>\n",
       "      <th>0</th>\n",
       "      <td>A_1830_1.LEFT_CC.jpg</td>\n",
       "      <td>/kaggle/input/ddsm-classification-cancer/detec...</td>\n",
       "      <td>CC.jpg</td>\n",
       "    </tr>\n",
       "    <tr>\n",
       "      <th>1</th>\n",
       "      <td>D_4097_1.LEFT_CC.jpg</td>\n",
       "      <td>/kaggle/input/ddsm-classification-cancer/detec...</td>\n",
       "      <td>copy.jpg</td>\n",
       "    </tr>\n",
       "    <tr>\n",
       "      <th>2</th>\n",
       "      <td>B_3511_1.RIGHT_MLO.jpg</td>\n",
       "      <td>/kaggle/input/ddsm-classification-cancer/detec...</td>\n",
       "      <td>copy.jpg</td>\n",
       "    </tr>\n",
       "    <tr>\n",
       "      <th>3</th>\n",
       "      <td>B_3467_1.LEFT_MLO.jpg</td>\n",
       "      <td>/kaggle/input/ddsm-classification-cancer/detec...</td>\n",
       "      <td>copy.jpg</td>\n",
       "    </tr>\n",
       "    <tr>\n",
       "      <th>4</th>\n",
       "      <td>D_4082_1.LEFT_MLO.jpg</td>\n",
       "      <td>/kaggle/input/ddsm-classification-cancer/detec...</td>\n",
       "      <td>MLO.jpg</td>\n",
       "    </tr>\n",
       "    <tr>\n",
       "      <th>...</th>\n",
       "      <td>...</td>\n",
       "      <td>...</td>\n",
       "      <td>...</td>\n",
       "    </tr>\n",
       "    <tr>\n",
       "      <th>4732</th>\n",
       "      <td>B_3065_1.RIGHT_MLO.jpg</td>\n",
       "      <td>/kaggle/input/ddsm-classification-cancer/detec...</td>\n",
       "      <td>MLO.jpg</td>\n",
       "    </tr>\n",
       "    <tr>\n",
       "      <th>4733</th>\n",
       "      <td>C_0217_1.RIGHT_MLO.jpg</td>\n",
       "      <td>/kaggle/input/ddsm-classification-cancer/detec...</td>\n",
       "      <td>copy.jpg</td>\n",
       "    </tr>\n",
       "    <tr>\n",
       "      <th>4734</th>\n",
       "      <td>D_4002_1.LEFT_CC.jpg</td>\n",
       "      <td>/kaggle/input/ddsm-classification-cancer/detec...</td>\n",
       "      <td>CC.jpg</td>\n",
       "    </tr>\n",
       "    <tr>\n",
       "      <th>4735</th>\n",
       "      <td>C_0150_1.LEFT_MLO.jpg</td>\n",
       "      <td>/kaggle/input/ddsm-classification-cancer/detec...</td>\n",
       "      <td>MLO.jpg</td>\n",
       "    </tr>\n",
       "    <tr>\n",
       "      <th>4736</th>\n",
       "      <td>B_3018_1.LEFT_MLO.jpg</td>\n",
       "      <td>/kaggle/input/ddsm-classification-cancer/detec...</td>\n",
       "      <td>copy.jpg</td>\n",
       "    </tr>\n",
       "  </tbody>\n",
       "</table>\n",
       "<p>4737 rows × 3 columns</p>\n",
       "</div>"
      ],
      "text/plain": [
       "                    fileName  \\\n",
       "0       A_1830_1.LEFT_CC.jpg   \n",
       "1       D_4097_1.LEFT_CC.jpg   \n",
       "2     B_3511_1.RIGHT_MLO.jpg   \n",
       "3      B_3467_1.LEFT_MLO.jpg   \n",
       "4      D_4082_1.LEFT_MLO.jpg   \n",
       "...                      ...   \n",
       "4732  B_3065_1.RIGHT_MLO.jpg   \n",
       "4733  C_0217_1.RIGHT_MLO.jpg   \n",
       "4734    D_4002_1.LEFT_CC.jpg   \n",
       "4735   C_0150_1.LEFT_MLO.jpg   \n",
       "4736   B_3018_1.LEFT_MLO.jpg   \n",
       "\n",
       "                                                   link      mask  \n",
       "0     /kaggle/input/ddsm-classification-cancer/detec...    CC.jpg  \n",
       "1     /kaggle/input/ddsm-classification-cancer/detec...  copy.jpg  \n",
       "2     /kaggle/input/ddsm-classification-cancer/detec...  copy.jpg  \n",
       "3     /kaggle/input/ddsm-classification-cancer/detec...  copy.jpg  \n",
       "4     /kaggle/input/ddsm-classification-cancer/detec...   MLO.jpg  \n",
       "...                                                 ...       ...  \n",
       "4732  /kaggle/input/ddsm-classification-cancer/detec...   MLO.jpg  \n",
       "4733  /kaggle/input/ddsm-classification-cancer/detec...  copy.jpg  \n",
       "4734  /kaggle/input/ddsm-classification-cancer/detec...    CC.jpg  \n",
       "4735  /kaggle/input/ddsm-classification-cancer/detec...   MLO.jpg  \n",
       "4736  /kaggle/input/ddsm-classification-cancer/detec...  copy.jpg  \n",
       "\n",
       "[4737 rows x 3 columns]"
      ]
     },
     "execution_count": 3,
     "metadata": {},
     "output_type": "execute_result"
    }
   ],
   "source": [
    "link_t = '/kaggle/input/ddsm-classification-cancer/detect_classification/'\n",
    "link_image = os.listdir('/kaggle/input/ddsm-classification-cancer/detect_classification')\n",
    "link_image = pd.DataFrame(link_image, columns=['fileName'])\n",
    "link_image['link'] = link_image['fileName'].apply(lambda x: link_t + x)\n",
    "link_image['mask'] = link_image['fileName'].apply(lambda x: x.split('_')[-1:][0])\n",
    "link_image['fileName'] = link_image['fileName'].apply(lambda x: x.replace('_copy',''))\n",
    "link_image"
   ]
  },
  {
   "cell_type": "code",
   "execution_count": 4,
   "metadata": {
    "execution": {
     "iopub.execute_input": "2023-05-16T02:30:32.266686Z",
     "iopub.status.busy": "2023-05-16T02:30:32.265809Z",
     "iopub.status.idle": "2023-05-16T02:30:32.301542Z",
     "shell.execute_reply": "2023-05-16T02:30:32.300246Z",
     "shell.execute_reply.started": "2023-05-16T02:30:32.266636Z"
    }
   },
   "outputs": [
    {
     "data": {
      "text/html": [
       "<div>\n",
       "<style scoped>\n",
       "    .dataframe tbody tr th:only-of-type {\n",
       "        vertical-align: middle;\n",
       "    }\n",
       "\n",
       "    .dataframe tbody tr th {\n",
       "        vertical-align: top;\n",
       "    }\n",
       "\n",
       "    .dataframe thead th {\n",
       "        text-align: right;\n",
       "    }\n",
       "</style>\n",
       "<table border=\"1\" class=\"dataframe\">\n",
       "  <thead>\n",
       "    <tr style=\"text-align: right;\">\n",
       "      <th></th>\n",
       "      <th>fileName</th>\n",
       "      <th>Status</th>\n",
       "      <th>link</th>\n",
       "    </tr>\n",
       "  </thead>\n",
       "  <tbody>\n",
       "    <tr>\n",
       "      <th>0</th>\n",
       "      <td>C_0029_1.LEFT_CC.jpg</td>\n",
       "      <td>Benign</td>\n",
       "      <td>/kaggle/input/ddsm-classification-cancer/detec...</td>\n",
       "    </tr>\n",
       "    <tr>\n",
       "      <th>1</th>\n",
       "      <td>C_0029_1.LEFT_CC.jpg</td>\n",
       "      <td>Benign</td>\n",
       "      <td>/kaggle/input/ddsm-classification-cancer/detec...</td>\n",
       "    </tr>\n",
       "    <tr>\n",
       "      <th>2</th>\n",
       "      <td>C_0029_1.LEFT_MLO.jpg</td>\n",
       "      <td>Benign</td>\n",
       "      <td>/kaggle/input/ddsm-classification-cancer/detec...</td>\n",
       "    </tr>\n",
       "    <tr>\n",
       "      <th>3</th>\n",
       "      <td>C_0029_1.LEFT_MLO.jpg</td>\n",
       "      <td>Benign</td>\n",
       "      <td>/kaggle/input/ddsm-classification-cancer/detec...</td>\n",
       "    </tr>\n",
       "    <tr>\n",
       "      <th>4</th>\n",
       "      <td>C_0033_1.RIGHT_CC.jpg</td>\n",
       "      <td>Benign</td>\n",
       "      <td>/kaggle/input/ddsm-classification-cancer/detec...</td>\n",
       "    </tr>\n",
       "    <tr>\n",
       "      <th>...</th>\n",
       "      <td>...</td>\n",
       "      <td>...</td>\n",
       "      <td>...</td>\n",
       "    </tr>\n",
       "    <tr>\n",
       "      <th>4732</th>\n",
       "      <td>D_4193_1.LEFT_MLO.jpg</td>\n",
       "      <td>Cancer</td>\n",
       "      <td>/kaggle/input/ddsm-classification-cancer/detec...</td>\n",
       "    </tr>\n",
       "    <tr>\n",
       "      <th>4733</th>\n",
       "      <td>D_4193_1.LEFT_MLO.jpg</td>\n",
       "      <td>Cancer</td>\n",
       "      <td>/kaggle/input/ddsm-classification-cancer/detec...</td>\n",
       "    </tr>\n",
       "    <tr>\n",
       "      <th>4734</th>\n",
       "      <td>D_4199_1.RIGHT_CC.jpg</td>\n",
       "      <td>Cancer</td>\n",
       "      <td>/kaggle/input/ddsm-classification-cancer/detec...</td>\n",
       "    </tr>\n",
       "    <tr>\n",
       "      <th>4735</th>\n",
       "      <td>D_4199_1.RIGHT_MLO.jpg</td>\n",
       "      <td>Cancer</td>\n",
       "      <td>/kaggle/input/ddsm-classification-cancer/detec...</td>\n",
       "    </tr>\n",
       "    <tr>\n",
       "      <th>4736</th>\n",
       "      <td>D_4199_1.RIGHT_MLO.jpg</td>\n",
       "      <td>Cancer</td>\n",
       "      <td>/kaggle/input/ddsm-classification-cancer/detec...</td>\n",
       "    </tr>\n",
       "  </tbody>\n",
       "</table>\n",
       "<p>4737 rows × 3 columns</p>\n",
       "</div>"
      ],
      "text/plain": [
       "                    fileName  Status  \\\n",
       "0       C_0029_1.LEFT_CC.jpg  Benign   \n",
       "1       C_0029_1.LEFT_CC.jpg  Benign   \n",
       "2      C_0029_1.LEFT_MLO.jpg  Benign   \n",
       "3      C_0029_1.LEFT_MLO.jpg  Benign   \n",
       "4      C_0033_1.RIGHT_CC.jpg  Benign   \n",
       "...                      ...     ...   \n",
       "4732   D_4193_1.LEFT_MLO.jpg  Cancer   \n",
       "4733   D_4193_1.LEFT_MLO.jpg  Cancer   \n",
       "4734   D_4199_1.RIGHT_CC.jpg  Cancer   \n",
       "4735  D_4199_1.RIGHT_MLO.jpg  Cancer   \n",
       "4736  D_4199_1.RIGHT_MLO.jpg  Cancer   \n",
       "\n",
       "                                                   link  \n",
       "0     /kaggle/input/ddsm-classification-cancer/detec...  \n",
       "1     /kaggle/input/ddsm-classification-cancer/detec...  \n",
       "2     /kaggle/input/ddsm-classification-cancer/detec...  \n",
       "3     /kaggle/input/ddsm-classification-cancer/detec...  \n",
       "4     /kaggle/input/ddsm-classification-cancer/detec...  \n",
       "...                                                 ...  \n",
       "4732  /kaggle/input/ddsm-classification-cancer/detec...  \n",
       "4733  /kaggle/input/ddsm-classification-cancer/detec...  \n",
       "4734  /kaggle/input/ddsm-classification-cancer/detec...  \n",
       "4735  /kaggle/input/ddsm-classification-cancer/detec...  \n",
       "4736  /kaggle/input/ddsm-classification-cancer/detec...  \n",
       "\n",
       "[4737 rows x 3 columns]"
      ]
     },
     "execution_count": 4,
     "metadata": {},
     "output_type": "execute_result"
    }
   ],
   "source": [
    "df_concat = pd.merge(df, link_image, on=\"fileName\")\n",
    "df_concat = df_concat[['fileName', 'Status', 'link']]\n",
    "df_concat"
   ]
  },
  {
   "cell_type": "code",
   "execution_count": 5,
   "metadata": {
    "execution": {
     "iopub.execute_input": "2023-05-16T02:30:32.303584Z",
     "iopub.status.busy": "2023-05-16T02:30:32.303219Z",
     "iopub.status.idle": "2023-05-16T02:30:32.325441Z",
     "shell.execute_reply": "2023-05-16T02:30:32.324118Z",
     "shell.execute_reply.started": "2023-05-16T02:30:32.303553Z"
    }
   },
   "outputs": [
    {
     "data": {
      "text/html": [
       "<div>\n",
       "<style scoped>\n",
       "    .dataframe tbody tr th:only-of-type {\n",
       "        vertical-align: middle;\n",
       "    }\n",
       "\n",
       "    .dataframe tbody tr th {\n",
       "        vertical-align: top;\n",
       "    }\n",
       "\n",
       "    .dataframe thead th {\n",
       "        text-align: right;\n",
       "    }\n",
       "</style>\n",
       "<table border=\"1\" class=\"dataframe\">\n",
       "  <thead>\n",
       "    <tr style=\"text-align: right;\">\n",
       "      <th></th>\n",
       "      <th>fileName</th>\n",
       "      <th>Status</th>\n",
       "      <th>link</th>\n",
       "      <th>labels</th>\n",
       "    </tr>\n",
       "  </thead>\n",
       "  <tbody>\n",
       "    <tr>\n",
       "      <th>0</th>\n",
       "      <td>C_0029_1.LEFT_CC.jpg</td>\n",
       "      <td>Benign</td>\n",
       "      <td>/kaggle/input/ddsm-classification-cancer/detec...</td>\n",
       "      <td>0</td>\n",
       "    </tr>\n",
       "    <tr>\n",
       "      <th>1</th>\n",
       "      <td>C_0029_1.LEFT_CC.jpg</td>\n",
       "      <td>Benign</td>\n",
       "      <td>/kaggle/input/ddsm-classification-cancer/detec...</td>\n",
       "      <td>0</td>\n",
       "    </tr>\n",
       "    <tr>\n",
       "      <th>2</th>\n",
       "      <td>C_0029_1.LEFT_MLO.jpg</td>\n",
       "      <td>Benign</td>\n",
       "      <td>/kaggle/input/ddsm-classification-cancer/detec...</td>\n",
       "      <td>0</td>\n",
       "    </tr>\n",
       "    <tr>\n",
       "      <th>3</th>\n",
       "      <td>C_0029_1.LEFT_MLO.jpg</td>\n",
       "      <td>Benign</td>\n",
       "      <td>/kaggle/input/ddsm-classification-cancer/detec...</td>\n",
       "      <td>0</td>\n",
       "    </tr>\n",
       "    <tr>\n",
       "      <th>4</th>\n",
       "      <td>C_0033_1.RIGHT_CC.jpg</td>\n",
       "      <td>Benign</td>\n",
       "      <td>/kaggle/input/ddsm-classification-cancer/detec...</td>\n",
       "      <td>0</td>\n",
       "    </tr>\n",
       "    <tr>\n",
       "      <th>...</th>\n",
       "      <td>...</td>\n",
       "      <td>...</td>\n",
       "      <td>...</td>\n",
       "      <td>...</td>\n",
       "    </tr>\n",
       "    <tr>\n",
       "      <th>4732</th>\n",
       "      <td>D_4193_1.LEFT_MLO.jpg</td>\n",
       "      <td>Cancer</td>\n",
       "      <td>/kaggle/input/ddsm-classification-cancer/detec...</td>\n",
       "      <td>1</td>\n",
       "    </tr>\n",
       "    <tr>\n",
       "      <th>4733</th>\n",
       "      <td>D_4193_1.LEFT_MLO.jpg</td>\n",
       "      <td>Cancer</td>\n",
       "      <td>/kaggle/input/ddsm-classification-cancer/detec...</td>\n",
       "      <td>1</td>\n",
       "    </tr>\n",
       "    <tr>\n",
       "      <th>4734</th>\n",
       "      <td>D_4199_1.RIGHT_CC.jpg</td>\n",
       "      <td>Cancer</td>\n",
       "      <td>/kaggle/input/ddsm-classification-cancer/detec...</td>\n",
       "      <td>1</td>\n",
       "    </tr>\n",
       "    <tr>\n",
       "      <th>4735</th>\n",
       "      <td>D_4199_1.RIGHT_MLO.jpg</td>\n",
       "      <td>Cancer</td>\n",
       "      <td>/kaggle/input/ddsm-classification-cancer/detec...</td>\n",
       "      <td>1</td>\n",
       "    </tr>\n",
       "    <tr>\n",
       "      <th>4736</th>\n",
       "      <td>D_4199_1.RIGHT_MLO.jpg</td>\n",
       "      <td>Cancer</td>\n",
       "      <td>/kaggle/input/ddsm-classification-cancer/detec...</td>\n",
       "      <td>1</td>\n",
       "    </tr>\n",
       "  </tbody>\n",
       "</table>\n",
       "<p>4737 rows × 4 columns</p>\n",
       "</div>"
      ],
      "text/plain": [
       "                    fileName  Status  \\\n",
       "0       C_0029_1.LEFT_CC.jpg  Benign   \n",
       "1       C_0029_1.LEFT_CC.jpg  Benign   \n",
       "2      C_0029_1.LEFT_MLO.jpg  Benign   \n",
       "3      C_0029_1.LEFT_MLO.jpg  Benign   \n",
       "4      C_0033_1.RIGHT_CC.jpg  Benign   \n",
       "...                      ...     ...   \n",
       "4732   D_4193_1.LEFT_MLO.jpg  Cancer   \n",
       "4733   D_4193_1.LEFT_MLO.jpg  Cancer   \n",
       "4734   D_4199_1.RIGHT_CC.jpg  Cancer   \n",
       "4735  D_4199_1.RIGHT_MLO.jpg  Cancer   \n",
       "4736  D_4199_1.RIGHT_MLO.jpg  Cancer   \n",
       "\n",
       "                                                   link  labels  \n",
       "0     /kaggle/input/ddsm-classification-cancer/detec...       0  \n",
       "1     /kaggle/input/ddsm-classification-cancer/detec...       0  \n",
       "2     /kaggle/input/ddsm-classification-cancer/detec...       0  \n",
       "3     /kaggle/input/ddsm-classification-cancer/detec...       0  \n",
       "4     /kaggle/input/ddsm-classification-cancer/detec...       0  \n",
       "...                                                 ...     ...  \n",
       "4732  /kaggle/input/ddsm-classification-cancer/detec...       1  \n",
       "4733  /kaggle/input/ddsm-classification-cancer/detec...       1  \n",
       "4734  /kaggle/input/ddsm-classification-cancer/detec...       1  \n",
       "4735  /kaggle/input/ddsm-classification-cancer/detec...       1  \n",
       "4736  /kaggle/input/ddsm-classification-cancer/detec...       1  \n",
       "\n",
       "[4737 rows x 4 columns]"
      ]
     },
     "execution_count": 5,
     "metadata": {},
     "output_type": "execute_result"
    }
   ],
   "source": [
    "label_map = {\"Benign\": 0, \"Cancer\": 1}\n",
    "text_labels = df_concat['Status'].values\n",
    "\n",
    "# def mapping lable\n",
    "def apply_mapping(label):\n",
    "    return label_map.get(label, -1)\n",
    "\n",
    "int_labels = list(map(apply_mapping, text_labels))\n",
    "\n",
    "df_concat['labels'] = int_labels\n",
    "df_concat"
   ]
  },
  {
   "cell_type": "code",
   "execution_count": 6,
   "metadata": {
    "execution": {
     "iopub.execute_input": "2023-05-16T02:30:32.327581Z",
     "iopub.status.busy": "2023-05-16T02:30:32.327203Z",
     "iopub.status.idle": "2023-05-16T02:30:33.068377Z",
     "shell.execute_reply": "2023-05-16T02:30:33.066938Z",
     "shell.execute_reply.started": "2023-05-16T02:30:32.327548Z"
    }
   },
   "outputs": [],
   "source": [
    "from sklearn.model_selection import train_test_split\n",
    "\n",
    "# X là tập dữ liệu gốc, y là nhãn tương ứng\n",
    "X_train, X_test, y_train, y_test = train_test_split(df_concat['link'].values, df_concat['labels'].values, test_size=0.2, random_state=42)\n"
   ]
  },
  {
   "cell_type": "code",
   "execution_count": 22,
   "metadata": {
    "execution": {
     "iopub.execute_input": "2023-05-16T02:59:21.621540Z",
     "iopub.status.busy": "2023-05-16T02:59:21.621078Z",
     "iopub.status.idle": "2023-05-16T02:59:31.180766Z",
     "shell.execute_reply": "2023-05-16T02:59:31.179543Z",
     "shell.execute_reply.started": "2023-05-16T02:59:21.621503Z"
    }
   },
   "outputs": [],
   "source": [
    "import skimage\n",
    "x=[]\n",
    "for i in df_concat['link'].values:\n",
    "    img = skimage.io.imread(i,as_gray=True)\n",
    "    img = cv2.resize(img, (32, 32))\n",
    "    x.append(img)"
   ]
  },
  {
   "cell_type": "code",
   "execution_count": 23,
   "metadata": {
    "execution": {
     "iopub.execute_input": "2023-05-16T02:59:54.839555Z",
     "iopub.status.busy": "2023-05-16T02:59:54.839095Z",
     "iopub.status.idle": "2023-05-16T02:59:54.876740Z",
     "shell.execute_reply": "2023-05-16T02:59:54.875592Z",
     "shell.execute_reply.started": "2023-05-16T02:59:54.839516Z"
    }
   },
   "outputs": [],
   "source": [
    "X_train = np.array(x)\n",
    "X_train = X_train.reshape(X_train.shape[0],32, 32)\n",
    "X_train = X_train.astype('float32')"
   ]
  },
  {
   "cell_type": "code",
   "execution_count": 9,
   "metadata": {
    "execution": {
     "iopub.execute_input": "2023-05-15T15:13:41.486963Z",
     "iopub.status.busy": "2023-05-15T15:13:41.486588Z",
     "iopub.status.idle": "2023-05-15T15:13:48.749181Z",
     "shell.execute_reply": "2023-05-15T15:13:48.747697Z",
     "shell.execute_reply.started": "2023-05-15T15:13:41.486929Z"
    }
   },
   "outputs": [
    {
     "name": "stdout",
     "output_type": "stream",
     "text": [
      "Model: \"sequential\"\n",
      "_________________________________________________________________\n",
      "Layer (type)                 Output Shape              Param #   \n",
      "=================================================================\n",
      "lstm (LSTM)                  (None, 100)               66000     \n",
      "_________________________________________________________________\n",
      "dense (Dense)                (None, 1024)              103424    \n",
      "=================================================================\n",
      "Total params: 169,424\n",
      "Trainable params: 169,424\n",
      "Non-trainable params: 0\n",
      "_________________________________________________________________\n"
     ]
    }
   ],
   "source": [
    "import keras\n",
    "from tensorflow.keras.models import Sequential\n",
    "from keras.models import Model\n",
    "from keras.layers import Input, Dense, TimeDistributed\n",
    "from keras.layers import LSTM, Bidirectional, Conv1D, concatenate, Permute, Dropout\n",
    "\n",
    "lstm_model = Sequential()\n",
    "lstm_model.add(LSTM(100, input_shape=(64,64)))\n",
    "lstm_model.add(Dense(1024, activation = 'softmax'))\n",
    "lstm_model.summary()"
   ]
  },
  {
   "cell_type": "code",
   "execution_count": 10,
   "metadata": {
    "execution": {
     "iopub.execute_input": "2023-05-15T15:13:48.755165Z",
     "iopub.status.busy": "2023-05-15T15:13:48.754692Z",
     "iopub.status.idle": "2023-05-15T15:13:52.294233Z",
     "shell.execute_reply": "2023-05-15T15:13:52.293115Z",
     "shell.execute_reply.started": "2023-05-15T15:13:48.755120Z"
    }
   },
   "outputs": [],
   "source": [
    "feature_lstm = lstm_model.predict(X_train)"
   ]
  },
  {
   "cell_type": "code",
   "execution_count": 11,
   "metadata": {
    "execution": {
     "iopub.execute_input": "2023-05-15T15:13:52.296763Z",
     "iopub.status.busy": "2023-05-15T15:13:52.295834Z",
     "iopub.status.idle": "2023-05-15T15:14:08.349256Z",
     "shell.execute_reply": "2023-05-15T15:14:08.347786Z",
     "shell.execute_reply.started": "2023-05-15T15:13:52.296713Z"
    }
   },
   "outputs": [
    {
     "name": "stdout",
     "output_type": "stream",
     "text": [
      "Requirement already satisfied: keras in /opt/conda/lib/python3.7/site-packages (2.6.0)\n",
      "\u001b[33mWARNING: Running pip as the 'root' user can result in broken permissions and conflicting behaviour with the system package manager. It is recommended to use a virtual environment instead: https://pip.pypa.io/warnings/venv\u001b[0m\u001b[33m\n",
      "\u001b[0m"
     ]
    }
   ],
   "source": [
    "!pip install keras"
   ]
  },
  {
   "cell_type": "code",
   "execution_count": 12,
   "metadata": {
    "execution": {
     "iopub.execute_input": "2023-05-15T15:14:08.351454Z",
     "iopub.status.busy": "2023-05-15T15:14:08.351061Z",
     "iopub.status.idle": "2023-05-15T15:14:08.359969Z",
     "shell.execute_reply": "2023-05-15T15:14:08.358750Z",
     "shell.execute_reply.started": "2023-05-15T15:14:08.351420Z"
    }
   },
   "outputs": [],
   "source": [
    "from tensorflow.keras.applications.resnet50 import ResNet50,preprocess_input"
   ]
  },
  {
   "cell_type": "code",
   "execution_count": 13,
   "metadata": {
    "execution": {
     "iopub.execute_input": "2023-05-15T15:14:08.362143Z",
     "iopub.status.busy": "2023-05-15T15:14:08.361675Z",
     "iopub.status.idle": "2023-05-15T15:14:08.534590Z",
     "shell.execute_reply": "2023-05-15T15:14:08.533353Z",
     "shell.execute_reply.started": "2023-05-15T15:14:08.362098Z"
    }
   },
   "outputs": [],
   "source": [
    "X_train = np.stack((X_train,)*3, axis=-1)"
   ]
  },
  {
   "cell_type": "code",
   "execution_count": 14,
   "metadata": {
    "execution": {
     "iopub.execute_input": "2023-05-15T15:14:08.536561Z",
     "iopub.status.busy": "2023-05-15T15:14:08.536089Z",
     "iopub.status.idle": "2023-05-15T15:14:08.542816Z",
     "shell.execute_reply": "2023-05-15T15:14:08.541481Z",
     "shell.execute_reply.started": "2023-05-15T15:14:08.536519Z"
    }
   },
   "outputs": [
    {
     "name": "stdout",
     "output_type": "stream",
     "text": [
      "(4737, 64, 64, 3)\n"
     ]
    }
   ],
   "source": [
    "print(X_train.shape)"
   ]
  },
  {
   "cell_type": "code",
   "execution_count": 15,
   "metadata": {
    "execution": {
     "iopub.execute_input": "2023-05-15T15:14:08.544696Z",
     "iopub.status.busy": "2023-05-15T15:14:08.544311Z",
     "iopub.status.idle": "2023-05-15T15:14:08.555245Z",
     "shell.execute_reply": "2023-05-15T15:14:08.554294Z",
     "shell.execute_reply.started": "2023-05-15T15:14:08.544662Z"
    }
   },
   "outputs": [],
   "source": [
    "# resnet50 = ResNet50(weights='imagenet', include_top=False)"
   ]
  },
  {
   "cell_type": "code",
   "execution_count": 16,
   "metadata": {
    "execution": {
     "iopub.execute_input": "2023-05-15T15:14:08.557483Z",
     "iopub.status.busy": "2023-05-15T15:14:08.557020Z",
     "iopub.status.idle": "2023-05-15T15:14:14.208858Z",
     "shell.execute_reply": "2023-05-15T15:14:14.207923Z",
     "shell.execute_reply.started": "2023-05-15T15:14:08.557439Z"
    }
   },
   "outputs": [
    {
     "name": "stdout",
     "output_type": "stream",
     "text": [
      "Downloading data from https://storage.googleapis.com/tensorflow/keras-applications/resnet/resnet50_weights_tf_dim_ordering_tf_kernels_notop.h5\n",
      "94773248/94765736 [==============================] - 3s 0us/step\n",
      "94781440/94765736 [==============================] - 3s 0us/step\n"
     ]
    }
   ],
   "source": [
    "from tensorflow.keras.models import Sequential\n",
    "import tensorflow as tf\n",
    "from keras.layers import Dense, Conv2D , MaxPool2D , Flatten\n",
    "resnet_model = Sequential()\n",
    "pretrained_model= tf.keras.applications.ResNet50(weights='imagenet',include_top=False,\n",
    "                   input_shape=(64,64,3),\n",
    "                   pooling='avg')\n",
    "for layer in pretrained_model.layers:\n",
    "    layer.trainable=True\n",
    "\n",
    "resnet_model.add(pretrained_model)\n",
    "resnet_model.add(Flatten())\n",
    "resnet_model.add(Dense(1024, activation='relu'))"
   ]
  },
  {
   "cell_type": "code",
   "execution_count": 19,
   "metadata": {
    "execution": {
     "iopub.execute_input": "2023-05-15T15:14:14.267298Z",
     "iopub.status.busy": "2023-05-15T15:14:14.266879Z",
     "iopub.status.idle": "2023-05-15T15:14:14.297553Z",
     "shell.execute_reply": "2023-05-15T15:14:14.296261Z",
     "shell.execute_reply.started": "2023-05-15T15:14:14.267262Z"
    }
   },
   "outputs": [
    {
     "name": "stdout",
     "output_type": "stream",
     "text": [
      "Model: \"sequential_1\"\n",
      "_________________________________________________________________\n",
      "Layer (type)                 Output Shape              Param #   \n",
      "=================================================================\n",
      "resnet50 (Functional)        (None, 2048)              23587712  \n",
      "_________________________________________________________________\n",
      "flatten (Flatten)            (None, 2048)              0         \n",
      "_________________________________________________________________\n",
      "dense_1 (Dense)              (None, 1024)              2098176   \n",
      "=================================================================\n",
      "Total params: 25,685,888\n",
      "Trainable params: 25,632,768\n",
      "Non-trainable params: 53,120\n",
      "_________________________________________________________________\n"
     ]
    }
   ],
   "source": [
    "resnet_model.summary()"
   ]
  },
  {
   "cell_type": "code",
   "execution_count": 20,
   "metadata": {
    "execution": {
     "iopub.execute_input": "2023-05-15T15:14:14.299901Z",
     "iopub.status.busy": "2023-05-15T15:14:14.298979Z",
     "iopub.status.idle": "2023-05-15T15:14:51.438825Z",
     "shell.execute_reply": "2023-05-15T15:14:51.437612Z",
     "shell.execute_reply.started": "2023-05-15T15:14:14.299852Z"
    }
   },
   "outputs": [],
   "source": [
    "resnet_features = resnet_model.predict(X_train)"
   ]
  },
  {
   "cell_type": "code",
   "execution_count": 21,
   "metadata": {
    "execution": {
     "iopub.execute_input": "2023-05-15T15:14:51.440966Z",
     "iopub.status.busy": "2023-05-15T15:14:51.440500Z",
     "iopub.status.idle": "2023-05-15T15:14:51.453032Z",
     "shell.execute_reply": "2023-05-15T15:14:51.451657Z",
     "shell.execute_reply.started": "2023-05-15T15:14:51.440918Z"
    }
   },
   "outputs": [],
   "source": [
    "resnet_features = tf.reshape(resnet_features, [4737, 32, 32, 1])"
   ]
  },
  {
   "cell_type": "code",
   "execution_count": 22,
   "metadata": {
    "execution": {
     "iopub.execute_input": "2023-05-15T15:14:51.455374Z",
     "iopub.status.busy": "2023-05-15T15:14:51.454884Z",
     "iopub.status.idle": "2023-05-15T15:14:51.476299Z",
     "shell.execute_reply": "2023-05-15T15:14:51.474810Z",
     "shell.execute_reply.started": "2023-05-15T15:14:51.455307Z"
    }
   },
   "outputs": [],
   "source": [
    "feature_lstm = tf.reshape(feature_lstm, [4737, 32, 32, 1])"
   ]
  },
  {
   "cell_type": "code",
   "execution_count": 23,
   "metadata": {
    "execution": {
     "iopub.execute_input": "2023-05-15T15:14:51.478357Z",
     "iopub.status.busy": "2023-05-15T15:14:51.477876Z",
     "iopub.status.idle": "2023-05-15T15:14:51.492604Z",
     "shell.execute_reply": "2023-05-15T15:14:51.491423Z",
     "shell.execute_reply.started": "2023-05-15T15:14:51.478292Z"
    }
   },
   "outputs": [
    {
     "data": {
      "text/plain": [
       "TensorShape([4737, 32, 32, 1])"
      ]
     },
     "execution_count": 23,
     "metadata": {},
     "output_type": "execute_result"
    }
   ],
   "source": [
    "resnet_features.shape"
   ]
  },
  {
   "cell_type": "code",
   "execution_count": 24,
   "metadata": {
    "execution": {
     "iopub.execute_input": "2023-05-15T15:14:51.494181Z",
     "iopub.status.busy": "2023-05-15T15:14:51.493807Z",
     "iopub.status.idle": "2023-05-15T15:14:51.507744Z",
     "shell.execute_reply": "2023-05-15T15:14:51.506368Z",
     "shell.execute_reply.started": "2023-05-15T15:14:51.494147Z"
    }
   },
   "outputs": [
    {
     "data": {
      "text/plain": [
       "TensorShape([32, 32, 1])"
      ]
     },
     "execution_count": 24,
     "metadata": {},
     "output_type": "execute_result"
    }
   ],
   "source": [
    "resnet_features[0].shape"
   ]
  },
  {
   "cell_type": "code",
   "execution_count": 25,
   "metadata": {
    "execution": {
     "iopub.execute_input": "2023-05-15T15:14:51.510303Z",
     "iopub.status.busy": "2023-05-15T15:14:51.509481Z",
     "iopub.status.idle": "2023-05-15T15:14:51.573724Z",
     "shell.execute_reply": "2023-05-15T15:14:51.572612Z",
     "shell.execute_reply.started": "2023-05-15T15:14:51.510253Z"
    }
   },
   "outputs": [],
   "source": [
    "x = keras.layers.concatenate([feature_lstm, resnet_features])"
   ]
  },
  {
   "cell_type": "code",
   "execution_count": 26,
   "metadata": {
    "execution": {
     "iopub.execute_input": "2023-05-15T15:14:51.576289Z",
     "iopub.status.busy": "2023-05-15T15:14:51.575305Z",
     "iopub.status.idle": "2023-05-15T15:14:51.582665Z",
     "shell.execute_reply": "2023-05-15T15:14:51.581589Z",
     "shell.execute_reply.started": "2023-05-15T15:14:51.576251Z"
    }
   },
   "outputs": [
    {
     "data": {
      "text/plain": [
       "TensorShape([4737, 32, 32, 2])"
      ]
     },
     "execution_count": 26,
     "metadata": {},
     "output_type": "execute_result"
    }
   ],
   "source": [
    "x.shape"
   ]
  },
  {
   "cell_type": "code",
   "execution_count": 27,
   "metadata": {
    "execution": {
     "iopub.execute_input": "2023-05-15T15:14:51.585403Z",
     "iopub.status.busy": "2023-05-15T15:14:51.584581Z",
     "iopub.status.idle": "2023-05-15T15:14:51.596309Z",
     "shell.execute_reply": "2023-05-15T15:14:51.595108Z",
     "shell.execute_reply.started": "2023-05-15T15:14:51.585319Z"
    }
   },
   "outputs": [
    {
     "data": {
      "text/plain": [
       "TensorShape([32, 32, 1])"
      ]
     },
     "execution_count": 27,
     "metadata": {},
     "output_type": "execute_result"
    }
   ],
   "source": [
    "feature_lstm[0].shape"
   ]
  },
  {
   "cell_type": "code",
   "execution_count": 28,
   "metadata": {
    "execution": {
     "iopub.execute_input": "2023-05-15T15:14:51.606118Z",
     "iopub.status.busy": "2023-05-15T15:14:51.605266Z",
     "iopub.status.idle": "2023-05-15T15:14:51.612141Z",
     "shell.execute_reply": "2023-05-15T15:14:51.611098Z",
     "shell.execute_reply.started": "2023-05-15T15:14:51.606069Z"
    }
   },
   "outputs": [],
   "source": [
    "x = tf.reshape(x, [4737, 32, 32, 2])"
   ]
  },
  {
   "cell_type": "code",
   "execution_count": 29,
   "metadata": {
    "execution": {
     "iopub.execute_input": "2023-05-15T15:14:51.614484Z",
     "iopub.status.busy": "2023-05-15T15:14:51.613962Z",
     "iopub.status.idle": "2023-05-15T15:14:51.627257Z",
     "shell.execute_reply": "2023-05-15T15:14:51.626003Z",
     "shell.execute_reply.started": "2023-05-15T15:14:51.614437Z"
    }
   },
   "outputs": [
    {
     "data": {
      "text/plain": [
       "TensorShape([32, 32, 2])"
      ]
     },
     "execution_count": 29,
     "metadata": {},
     "output_type": "execute_result"
    }
   ],
   "source": [
    "x[0].shape"
   ]
  },
  {
   "cell_type": "code",
   "execution_count": 35,
   "metadata": {
    "execution": {
     "iopub.execute_input": "2023-05-15T15:14:51.685392Z",
     "iopub.status.busy": "2023-05-15T15:14:51.684899Z",
     "iopub.status.idle": "2023-05-15T15:14:51.767042Z",
     "shell.execute_reply": "2023-05-15T15:14:51.765765Z",
     "shell.execute_reply.started": "2023-05-15T15:14:51.685324Z"
    }
   },
   "outputs": [
    {
     "name": "stdout",
     "output_type": "stream",
     "text": [
      "Model: \"sequential_2\"\n",
      "_________________________________________________________________\n",
      "Layer (type)                 Output Shape              Param #   \n",
      "=================================================================\n",
      "conv2d (Conv2D)              (None, 32, 32, 32)        608       \n",
      "_________________________________________________________________\n",
      "max_pooling2d (MaxPooling2D) (None, 16, 16, 32)        0         \n",
      "_________________________________________________________________\n",
      "dropout (Dropout)            (None, 16, 16, 32)        0         \n",
      "_________________________________________________________________\n",
      "conv2d_1 (Conv2D)            (None, 16, 16, 64)        18496     \n",
      "_________________________________________________________________\n",
      "conv2d_2 (Conv2D)            (None, 16, 16, 128)       73856     \n",
      "_________________________________________________________________\n",
      "conv2d_3 (Conv2D)            (None, 16, 16, 256)       295168    \n",
      "_________________________________________________________________\n",
      "max_pooling2d_1 (MaxPooling2 (None, 8, 8, 256)         0         \n",
      "_________________________________________________________________\n",
      "dropout_1 (Dropout)          (None, 8, 8, 256)         0         \n",
      "_________________________________________________________________\n",
      "flatten_1 (Flatten)          (None, 16384)             0         \n",
      "=================================================================\n",
      "Total params: 388,128\n",
      "Trainable params: 388,128\n",
      "Non-trainable params: 0\n",
      "_________________________________________________________________\n"
     ]
    }
   ],
   "source": [
    "from tensorflow import keras\n",
    "model_cnn = keras.Sequential()\n",
    "model_cnn.add(Conv2D(filters=32, kernel_size=(3, 3), padding=\"same\", activation='relu', input_shape=[32,32,2]))\n",
    "\n",
    "model_cnn.add(MaxPool2D(pool_size=(2, 2)))\n",
    "model_cnn.add(Dropout(rate=0.27))\n",
    "\n",
    "model_cnn.add(Conv2D(filters=64, kernel_size=(3, 3), padding=\"same\"))\n",
    "model_cnn.add(Conv2D(filters=128, kernel_size=(3, 3), padding=\"same\"))\n",
    "model_cnn.add(Conv2D(filters=256, kernel_size=(3, 3), padding=\"same\", activation='sigmoid'))\n",
    "model_cnn.add(MaxPool2D(pool_size=(2, 2)))\n",
    "model_cnn.add(Dropout(rate=0.27))\n",
    "model_cnn.add(Flatten())\n",
    "model_cnn.summary()"
   ]
  },
  {
   "cell_type": "code",
   "execution_count": 36,
   "metadata": {
    "execution": {
     "iopub.execute_input": "2023-05-15T15:14:51.769960Z",
     "iopub.status.busy": "2023-05-15T15:14:51.769475Z",
     "iopub.status.idle": "2023-05-15T15:15:00.533873Z",
     "shell.execute_reply": "2023-05-15T15:15:00.532704Z",
     "shell.execute_reply.started": "2023-05-15T15:14:51.769912Z"
    }
   },
   "outputs": [],
   "source": [
    "feature_cnn = model_cnn.predict(x)"
   ]
  },
  {
   "cell_type": "code",
   "execution_count": 37,
   "metadata": {
    "execution": {
     "iopub.execute_input": "2023-05-15T15:15:00.536000Z",
     "iopub.status.busy": "2023-05-15T15:15:00.535668Z",
     "iopub.status.idle": "2023-05-15T15:15:00.542358Z",
     "shell.execute_reply": "2023-05-15T15:15:00.541390Z",
     "shell.execute_reply.started": "2023-05-15T15:15:00.535969Z"
    }
   },
   "outputs": [
    {
     "data": {
      "text/plain": [
       "(4737, 16384)"
      ]
     },
     "execution_count": 37,
     "metadata": {},
     "output_type": "execute_result"
    }
   ],
   "source": [
    "feature_cnn.shape"
   ]
  },
  {
   "cell_type": "code",
   "execution_count": 38,
   "metadata": {
    "execution": {
     "iopub.execute_input": "2023-05-15T15:15:00.544519Z",
     "iopub.status.busy": "2023-05-15T15:15:00.543727Z",
     "iopub.status.idle": "2023-05-15T15:15:00.684687Z",
     "shell.execute_reply": "2023-05-15T15:15:00.683346Z",
     "shell.execute_reply.started": "2023-05-15T15:15:00.544481Z"
    }
   },
   "outputs": [],
   "source": [
    "from sklearn.model_selection import train_test_split\n",
    "train_images, test_images, train_labels, test_labels=train_test_split(feature_cnn, df_concat['labels'].values, test_size=0.2, random_state=42)"
   ]
  },
  {
   "cell_type": "code",
   "execution_count": 175,
   "metadata": {
    "execution": {
     "iopub.execute_input": "2023-05-10T16:16:48.535211Z",
     "iopub.status.busy": "2023-05-10T16:16:48.533648Z",
     "iopub.status.idle": "2023-05-10T16:16:58.035820Z",
     "shell.execute_reply": "2023-05-10T16:16:58.034095Z",
     "shell.execute_reply.started": "2023-05-10T16:16:48.535150Z"
    }
   },
   "outputs": [
    {
     "data": {
      "text/plain": [
       "RandomForestClassifier(n_estimators=50, random_state=42)"
      ]
     },
     "execution_count": 175,
     "metadata": {},
     "output_type": "execute_result"
    }
   ],
   "source": [
    "from sklearn.ensemble import RandomForestClassifier\n",
    "RF_model = RandomForestClassifier(n_estimators = 50, random_state = 42)\n",
    "\n",
    "# Train the model on training data\n",
    "RF_model.fit(train_images, train_labels)"
   ]
  },
  {
   "cell_type": "code",
   "execution_count": 176,
   "metadata": {
    "execution": {
     "iopub.execute_input": "2023-05-10T16:16:58.040415Z",
     "iopub.status.busy": "2023-05-10T16:16:58.039616Z",
     "iopub.status.idle": "2023-05-10T16:16:58.084623Z",
     "shell.execute_reply": "2023-05-10T16:16:58.083026Z",
     "shell.execute_reply.started": "2023-05-10T16:16:58.040346Z"
    }
   },
   "outputs": [
    {
     "name": "stdout",
     "output_type": "stream",
     "text": [
      "Accuracy: 0.5539112050739958\n"
     ]
    }
   ],
   "source": [
    "y_pred=RF_model.predict(test_images)\n",
    "\n",
    "# Import scikit-learn metrics module for accuracy calculation\n",
    "from sklearn import metrics\n",
    "# Model Accuracy, how often is the classifier correct?\n",
    "print(\"Accuracy:\",metrics.accuracy_score(test_labels, y_pred))"
   ]
  },
  {
   "cell_type": "code",
   "execution_count": 177,
   "metadata": {
    "execution": {
     "iopub.execute_input": "2023-05-10T16:16:58.087021Z",
     "iopub.status.busy": "2023-05-10T16:16:58.086532Z",
     "iopub.status.idle": "2023-05-10T16:16:58.325281Z",
     "shell.execute_reply": "2023-05-10T16:16:58.323628Z",
     "shell.execute_reply.started": "2023-05-10T16:16:58.086926Z"
    }
   },
   "outputs": [
    {
     "data": {
      "text/plain": [
       "<AxesSubplot:>"
      ]
     },
     "execution_count": 177,
     "metadata": {},
     "output_type": "execute_result"
    },
    {
     "data": {
      "image/png": "[encoded data removed]",
      "text/plain": [
       "<Figure size 432x288 with 2 Axes>"
      ]
     },
     "metadata": {
      "needs_background": "light"
     },
     "output_type": "display_data"
    }
   ],
   "source": [
    "from sklearn.metrics import confusion_matrix\n",
    "import seaborn as sns\n",
    "\n",
    "cm = confusion_matrix(test_labels, y_pred)\n",
    "sns.heatmap(cm, annot=True, fmt=\".0f\")"
   ]
  },
  {
   "cell_type": "code",
   "execution_count": null,
   "metadata": {},
   "outputs": [],
   "source": []
  }
 ],
 "metadata": {
  "kernelspec": {
   "display_name": "Python 3 (ipykernel)",
   "language": "python",
   "name": "python3"
  },
  "language_info": {
   "codemirror_mode": {
    "name": "ipython",
    "version": 3
   },
   "file_extension": ".py",
   "mimetype": "text/x-python",
   "name": "python",
   "nbconvert_exporter": "python",
   "pygments_lexer": "ipython3",
   "version": "3.9.12"
  }
 },
 "nbformat": 4,
 "nbformat_minor": 4
}
